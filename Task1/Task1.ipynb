{
 "cells": [
  {
   "cell_type": "code",
   "execution_count": 4,
   "id": "9a041ca4-851e-420c-b8c9-22c17c12b86c",
   "metadata": {},
   "outputs": [],
   "source": [
    "from IPython.display import Image, display"
   ]
  },
  {
   "cell_type": "markdown",
   "id": "98c4bedc-303b-40a1-9a11-b97e456916c5",
   "metadata": {},
   "source": [
    "# Условие"
   ]
  },
  {
   "cell_type": "code",
   "execution_count": 6,
   "id": "03650e65-bef8-41aa-909b-88e5be87074a",
   "metadata": {},
   "outputs": [
    {
     "data": {
      "image/png": "[encoded data removed]",
      "text/plain": [
       "<IPython.core.display.Image object>"
      ]
     },
     "metadata": {},
     "output_type": "display_data"
    }
   ],
   "source": [
    "display(Image(filename=r'C:\\Users\\Sviridov\\Desktop\\Тестовые\\Pet\\Task1\\1.png'))\n"
   ]
  },
  {
   "cell_type": "markdown",
   "id": "0f9f0088-fd14-42fc-ad0e-35346e6a8a08",
   "metadata": {},
   "source": [
    "# Решение"
   ]
  },
  {
   "cell_type": "markdown",
   "id": "58be0056-40b0-4bdd-a3f9-9cb8128b98df",
   "metadata": {},
   "source": [
    "## Первый вариант"
   ]
  },
  {
   "cell_type": "code",
   "execution_count": 2,
   "id": "300e1bb4-e049-4570-9fe9-c3a13789ae4b",
   "metadata": {},
   "outputs": [
    {
     "name": "stdout",
     "output_type": "stream",
     "text": [
      "[6, 5, 3]\n"
     ]
    }
   ],
   "source": [
    "u = [1, 2, 3]\n",
    "o = []\n",
    "n = len(u)\n",
    "#o[n - 1] =                           u[n - 1]\n",
    "#o[n - 2] =                u[n - 2] + u[n - 1]\n",
    "#o[n - 3] =     u[n - 3] + u[n - 2] + u[n - 1]\n",
    "\n",
    "element = 0\n",
    "for i in range(n-1, -1, -1):\n",
    "    element += u[i]\n",
    "    o.append(element)\n",
    "    # o.insert(0, element)\n",
    "\n",
    "print(o[::-1])\n",
    "# print(o)"
   ]
  },
  {
   "cell_type": "markdown",
   "id": "758e916e-6f44-45d3-bce8-fc3df1975648",
   "metadata": {},
   "source": [
    "## Второй вариант"
   ]
  },
  {
   "cell_type": "code",
   "execution_count": 3,
   "id": "56382fe1-fa1c-4435-90ae-3fe84d4ad92d",
   "metadata": {},
   "outputs": [
    {
     "name": "stdout",
     "output_type": "stream",
     "text": [
      "[6, 5, 3]\n"
     ]
    }
   ],
   "source": [
    "lu = [1, 2, 3]\n",
    "mu = []\n",
    "mun = len(u)\n",
    "\n",
    "for i in range(mun):\n",
    "    mu.append(sum(lu[i:]))\n",
    "\n",
    "print(mu)"
   ]
  },
  {
   "cell_type": "code",
   "execution_count": null,
   "id": "92f634f0-cebb-4f29-8386-65e27d4a60d4",
   "metadata": {},
   "outputs": [],
   "source": []
  }
 ],
 "metadata": {
  "kernelspec": {
   "display_name": "Python 3 (ipykernel)",
   "language": "python",
   "name": "python3"
  },
  "language_info": {
   "codemirror_mode": {
    "name": "ipython",
    "version": 3
   },
   "file_extension": ".py",
   "mimetype": "text/x-python",
   "name": "python",
   "nbconvert_exporter": "python",
   "pygments_lexer": "ipython3",
   "version": "3.9.21"
  }
 },
 "nbformat": 4,
 "nbformat_minor": 5
}
