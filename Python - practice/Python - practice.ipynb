{
 "cells": [
  {
   "cell_type": "markdown",
   "id": "8672a994-a3ed-4d30-ab90-517b2daf621d",
   "metadata": {},
   "source": [
    "# Python - Практика "
   ]
  },
  {
   "cell_type": "markdown",
   "id": "cea6dca4-6bda-41b5-890d-12ceb8886823",
   "metadata": {},
   "source": [
    "## 1. Создайте программу, которая принимает на вход две строки и выводит их конкатенацию (соединение)."
   ]
  },
  {
   "cell_type": "code",
   "execution_count": 1,
   "id": "5ae0c3a3-093b-4d20-a3c3-e619c78fd02e",
   "metadata": {},
   "outputs": [
    {
     "name": "stdout",
     "output_type": "stream",
     "text": [
      "водка без пива - деньги на ветер\n"
     ]
    }
   ],
   "source": [
    "a = \"водка без пива\"\n",
    "b = \"деньги на ветер\"\n",
    "mind = a + \" - \" + b\n",
    "print(mind)"
   ]
  },
  {
   "cell_type": "markdown",
   "id": "27c595ac-b2b3-4bcd-aa3c-970ed4488d89",
   "metadata": {},
   "source": [
    "## 2. Напишите скрипт, который проверяет, является ли строка палиндромом. (Т.е. слово пишется одинаково туда сюда. Пример \"заказ\", \"довод\" и т.д.)"
   ]
  },
  {
   "cell_type": "code",
   "execution_count": 2,
   "id": "abb1a331-7be7-4624-a7f9-9bf8c83546fe",
   "metadata": {},
   "outputs": [
    {
     "name": "stdout",
     "output_type": "stream",
     "text": [
      "это не палиндром\n"
     ]
    }
   ],
   "source": [
    "a = \"водка без пива\"\n",
    "if a == a[::-1]:\n",
    "  print(\"это палиндром\")\n",
    "else:\n",
    "  print(\"это не палиндром\")"
   ]
  },
  {
   "cell_type": "markdown",
   "id": "b635d281-0aca-4684-aef9-2e77214150b0",
   "metadata": {},
   "source": [
    "## 3. Создайте число a и присвойте ему какое-то значение. Если оно больше 50 и меньше 100, выведете: \"Блок 1\". Если больше 100, но меньше 200: \"Блок 2\". Во всех остальных случаях: \"Блок 3\""
   ]
  },
  {
   "cell_type": "code",
   "execution_count": 3,
   "id": "b9a57d7f-e9d7-44d5-8465-dc39856b9290",
   "metadata": {},
   "outputs": [
    {
     "name": "stdout",
     "output_type": "stream",
     "text": [
      "Блок 1\n"
     ]
    }
   ],
   "source": [
    "a = 64\n",
    "if a > 50 and a < 100:\n",
    "  print(\"Блок 1\")\n",
    "elif a > 100 and a < 200:\n",
    "  print(\"Блок 2\")\n",
    "else:\n",
    "  print(\"Блок 3\")"
   ]
  },
  {
   "cell_type": "markdown",
   "id": "6c9f180b-c0b2-4e76-b568-89f74b7830a5",
   "metadata": {},
   "source": [
    "## 4. Напишите код, который принимает строку и заменяет все пробелы на подчеркивания."
   ]
  },
  {
   "cell_type": "code",
   "execution_count": 4,
   "id": "ec14ccf0-5a47-430d-bc8b-7ebbe7c0f0bf",
   "metadata": {},
   "outputs": [
    {
     "name": "stdout",
     "output_type": "stream",
     "text": [
      "не_буди_лихо,_пока_оно_тихо\n"
     ]
    }
   ],
   "source": [
    "c = 'не буди лихо, пока оно тихо'\n",
    "print(c.replace(' ','_'))"
   ]
  },
  {
   "cell_type": "markdown",
   "id": "7c241467-348a-4a8d-bdb0-cef17834cb81",
   "metadata": {},
   "source": [
    "## 5. Напишите код, который создает список из первых 10 чисел и выводит его."
   ]
  },
  {
   "cell_type": "code",
   "execution_count": 5,
   "id": "fd90628d-e22b-4dec-bb96-61b8173c4534",
   "metadata": {},
   "outputs": [
    {
     "name": "stdout",
     "output_type": "stream",
     "text": [
      "[0, 1, 2, 3, 4, 5, 6, 7, 8, 9]\n"
     ]
    }
   ],
   "source": [
    "e = []\n",
    "for i in range(10):\n",
    "  e.append(i)\n",
    "print(e)"
   ]
  },
  {
   "cell_type": "markdown",
   "id": "2e0a1eb9-54bf-4144-b7da-2f0c7a1900cc",
   "metadata": {},
   "source": [
    "## 6. Протестируйте работу метода str.split(). Метод split(метод строки) - разделяет строку на элементы массива через разделитель."
   ]
  },
  {
   "cell_type": "code",
   "execution_count": 6,
   "id": "530c22ef-0ac5-409d-bd62-6ec1eac095c7",
   "metadata": {},
   "outputs": [
    {
     "name": "stdout",
     "output_type": "stream",
     "text": [
      "['Hello', 'there'] <class 'list'>\n"
     ]
    }
   ],
   "source": [
    "a = 'Hello there'\n",
    "b = a.split(' ')\n",
    "print(b, type(b))"
   ]
  },
  {
   "cell_type": "markdown",
   "id": "a09c20bb-1a6a-4790-b476-ae4ca0ba4e69",
   "metadata": {},
   "source": [
    "## 7. Создайте множество из строк: \"apple\", \"banana\", \"cherry\". Добавьте в него строку \"orange\"."
   ]
  },
  {
   "cell_type": "code",
   "execution_count": 7,
   "id": "23c32bf3-f4bd-4ef3-b94a-3cc4a5662988",
   "metadata": {},
   "outputs": [
    {
     "name": "stdout",
     "output_type": "stream",
     "text": [
      "{'banana', 'orange', 'cherry', 'apple'}\n"
     ]
    }
   ],
   "source": [
    "fruits = {'apple','banana','cherry'}\n",
    "fruits.add('orange')\n",
    "print(fruits)"
   ]
  },
  {
   "cell_type": "markdown",
   "id": "16dbf5fe-d419-456f-8c68-87439ea976f3",
   "metadata": {},
   "source": [
    "## 8. Проверьте, содержится ли элемент \"apple\" в множестве."
   ]
  },
  {
   "cell_type": "code",
   "execution_count": 8,
   "id": "1e6ae163-5a8c-4255-bc62-7683d177082c",
   "metadata": {},
   "outputs": [
    {
     "name": "stdout",
     "output_type": "stream",
     "text": [
      "True\n"
     ]
    }
   ],
   "source": [
    "print(\"apple\" in fruits)"
   ]
  },
  {
   "cell_type": "markdown",
   "id": "206788ad-f342-44e2-91e0-3da59ab50e9f",
   "metadata": {},
   "source": [
    "## 9. Найдите количество уникальных элементов в списке: [1, 2, 2, 3, 4, 4, 4, 5]."
   ]
  },
  {
   "cell_type": "code",
   "execution_count": 9,
   "id": "b342807f-d222-455c-8540-721a75206dc4",
   "metadata": {},
   "outputs": [
    {
     "name": "stdout",
     "output_type": "stream",
     "text": [
      "5\n"
     ]
    }
   ],
   "source": [
    "print(len(set([1, 2, 2, 3, 4, 4, 4, 5])))"
   ]
  },
  {
   "cell_type": "markdown",
   "id": "129179b3-5ad2-46f5-a6bb-b5e69cb4a188",
   "metadata": {},
   "source": [
    "## 10. Создайте словарь с тремя парами \"ключ-значение\": \"name\": \"Alice\", \"age\": 25, \"city\": \"Moscow\". Выведите его.\\\n",
    "**Добавьте в словарь из предыдущего пункта новую пару: \"job\": \"Engineer**"
   ]
  },
  {
   "cell_type": "code",
   "execution_count": 10,
   "id": "456f6d7a-3cbb-483d-877f-f42ab9a7603e",
   "metadata": {},
   "outputs": [
    {
     "name": "stdout",
     "output_type": "stream",
     "text": [
      "{'name': 'Alice', 'age': 25, 'city': 'Moscow'}\n",
      "{'name': 'Alice', 'age': 25, 'city': 'Moscow', 'job': 'Engineer'}\n"
     ]
    }
   ],
   "source": [
    "dict = {\"name\": \"Alice\", \"age\": 25, \"city\": \"Moscow\"}\n",
    "print(dict)\n",
    "dict[\"job\"] = \"Engineer\"\n",
    "print(dict)"
   ]
  },
  {
   "cell_type": "markdown",
   "id": "8069e576-357b-4c3e-bdbf-c4dded7553d6",
   "metadata": {},
   "source": [
    "## 11. Создайте список строк: [\"apple\", \"banana\", \"cherry\"] и выведите каждую строку с добавлением \" fruit\" в конце."
   ]
  },
  {
   "cell_type": "code",
   "execution_count": 11,
   "id": "bb3503b4-cbd2-43b4-b320-9b902502d937",
   "metadata": {},
   "outputs": [
    {
     "name": "stdout",
     "output_type": "stream",
     "text": [
      "apple fruit\n",
      "banana fruit\n",
      "cherry fruit\n"
     ]
    }
   ],
   "source": [
    "wham = [\"apple\", \"banana\", \"cherry\"]\n",
    "for i in wham:\n",
    "  print(i+\" fruit\")"
   ]
  },
  {
   "cell_type": "markdown",
   "id": "705e70e9-a74b-415b-81aa-9d806a7f7a08",
   "metadata": {},
   "source": [
    "## 12. Создайте список чисел от 5 до 15 и найдите их сумму, используя цикл for. (не использовать функцию sum!)"
   ]
  },
  {
   "cell_type": "code",
   "execution_count": 12,
   "id": "9ee84842-8e81-444d-8ff3-ef00422c6626",
   "metadata": {},
   "outputs": [
    {
     "name": "stdout",
     "output_type": "stream",
     "text": [
      "110\n"
     ]
    }
   ],
   "source": [
    "zoom = [5, 6, 7, 8, 9, 10, 11, 12, 13, 14, 15]\n",
    "summa= 0\n",
    "for i in zoom:\n",
    "  summa += i\n",
    "print(summa)"
   ]
  },
  {
   "cell_type": "markdown",
   "id": "8caabac3-2d29-4c4d-beb0-1ee53cbebf2e",
   "metadata": {},
   "source": [
    "## 13. Создайте список строк: [\"apple\", \"banana\", \"cherry\"] и создайте новый список, содержащий длины этих строк."
   ]
  },
  {
   "cell_type": "code",
   "execution_count": 13,
   "id": "9627d3b2-9ade-4cac-bd9c-8c383f525165",
   "metadata": {},
   "outputs": [
    {
     "name": "stdout",
     "output_type": "stream",
     "text": [
      "[5, 6, 6]\n"
     ]
    }
   ],
   "source": [
    "fruits = [\"apple\", \"banana\", \"cherry\"]\n",
    "lens = []\n",
    "for i in fruits:\n",
    "  lens.append(len(i))\n",
    "print(lens)"
   ]
  },
  {
   "cell_type": "markdown",
   "id": "048069c4-fb85-4eba-ac60-3115fbb4be5d",
   "metadata": {},
   "source": [
    "## 14. Создайте список чисел от 1 до 10 включительно. Далее создайте множество только из чисел строго больше 6."
   ]
  },
  {
   "cell_type": "code",
   "execution_count": 14,
   "id": "d1394ac9-7a70-4aa5-aa94-4829d8d5ffed",
   "metadata": {},
   "outputs": [
    {
     "name": "stdout",
     "output_type": "stream",
     "text": [
      "{8, 9, 10, 7}\n"
     ]
    }
   ],
   "source": [
    "ten = [1, 2, 3, 4, 5, 6, 7, 8, 9, 10]\n",
    "mu = set()\n",
    "for i in ten:\n",
    "  if i > 6:\n",
    "    mu.add(i)\n",
    "print(mu)"
   ]
  },
  {
   "cell_type": "markdown",
   "id": "4748da8e-790e-40fb-8cb9-345c60a91623",
   "metadata": {},
   "source": [
    "## 17. Создайте переменную count и присвойте ей значение 0. Используя цикл while, увеличивайте count на 1, пока он не станет равен 5, и выведите его значение."
   ]
  },
  {
   "cell_type": "code",
   "execution_count": 15,
   "id": "c3cd31a0-703a-425d-8f31-0054b11b4290",
   "metadata": {},
   "outputs": [
    {
     "name": "stdout",
     "output_type": "stream",
     "text": [
      "5\n"
     ]
    }
   ],
   "source": [
    "count = 0\n",
    "while count < 5:\n",
    "  count += 1\n",
    "print(count)"
   ]
  },
  {
   "cell_type": "markdown",
   "id": "5683251c-c7a4-42c8-9668-5339d968c0c5",
   "metadata": {},
   "source": [
    "## 18. Создайте функцию multiply(a, b), которая возвращает произведение двух чисел."
   ]
  },
  {
   "cell_type": "code",
   "execution_count": 16,
   "id": "cd212367-e10c-488e-b0d7-66b5c658f953",
   "metadata": {},
   "outputs": [
    {
     "name": "stdout",
     "output_type": "stream",
     "text": [
      "200\n"
     ]
    }
   ],
   "source": [
    "def multiply(a, b):\n",
    "  print(a*b)\n",
    "\n",
    "x=10\n",
    "y=20\n",
    "multiply(x, y)"
   ]
  },
  {
   "cell_type": "markdown",
   "id": "cab3a172-81d3-4a50-861b-241f13437098",
   "metadata": {},
   "source": [
    "## 19. Создайте функцию max_value(a, b), которая возвращает большее из двух чисел."
   ]
  },
  {
   "cell_type": "code",
   "execution_count": 17,
   "id": "e3c342ed-98d8-4884-9b61-dea9e9341dee",
   "metadata": {},
   "outputs": [
    {
     "name": "stdout",
     "output_type": "stream",
     "text": [
      "20\n"
     ]
    }
   ],
   "source": [
    "def max_value(a, b):\n",
    "  print(max([a, b]))\n",
    "\n",
    "max_value(x, y)"
   ]
  },
  {
   "cell_type": "markdown",
   "id": "792bf5f4-3bcb-4915-8f63-b0fb2266aff6",
   "metadata": {},
   "source": [
    "## 20. Создайте функцию full_name(first_name, last_name), которая объединяет имя и фамилию и возвращает полное имя."
   ]
  },
  {
   "cell_type": "code",
   "execution_count": 18,
   "id": "5e4052eb-f7c6-47bb-bf39-cf903d0c1079",
   "metadata": {},
   "outputs": [
    {
     "name": "stdout",
     "output_type": "stream",
     "text": [
      "Andrey Sviridov\n"
     ]
    }
   ],
   "source": [
    "def full_name(first_name, last_name):\n",
    "  print(first_name + ' ' + last_name)\n",
    "\n",
    "first_name = 'Andrey'\n",
    "last_name = 'Sviridov'\n",
    "full_name(first_name, last_name)"
   ]
  },
  {
   "cell_type": "markdown",
   "id": "e3cc6f7c-860f-495d-bc63-d0d86094b38e",
   "metadata": {},
   "source": [
    "## 21. Напишите функцию print_coordinates(x, y), которая выводит координаты в формате \"x: {x}, y: {y}\"."
   ]
  },
  {
   "cell_type": "code",
   "execution_count": 19,
   "id": "8de8aa9e-7606-4594-a1a8-30c6fad79f0f",
   "metadata": {},
   "outputs": [
    {
     "data": {
      "text/plain": [
       "'x: 5, y: 6'"
      ]
     },
     "execution_count": 19,
     "metadata": {},
     "output_type": "execute_result"
    }
   ],
   "source": [
    "def print_coordinates(x, y):\n",
    "  return(f'x: {x}, y: {y}')\n",
    "\n",
    "x = 5\n",
    "y = 6\n",
    "print_coordinates(x, y)"
   ]
  },
  {
   "cell_type": "markdown",
   "id": "5fe2e312-3c04-4d3a-bdeb-04206c5fbb78",
   "metadata": {},
   "source": [
    "## 22. Напишите функцию format_date(year, month, day), которая возвращает строку формата \"YYYY-MM-DD\"."
   ]
  },
  {
   "cell_type": "code",
   "execution_count": 20,
   "id": "9f60e6b8-31a9-4d40-bc5f-954f4869ea4c",
   "metadata": {},
   "outputs": [
    {
     "name": "stdout",
     "output_type": "stream",
     "text": [
      "2000-10-10\n"
     ]
    }
   ],
   "source": [
    "def format_date(year, month, day):\n",
    "  month = str(month)\n",
    "  if len(month) < 2:\n",
    "    month = '0' + month\n",
    "  day = str(day)\n",
    "  if len(day) < 2:\n",
    "    day = '0' + day\n",
    "  print(f'{year}-{month}-{day}')\n",
    "\n",
    "format_date(2000,10,10)"
   ]
  },
  {
   "cell_type": "markdown",
   "id": "4d5baa10-10a7-460b-b286-61d1bdd67d12",
   "metadata": {},
   "source": [
    "## 23. Напишите функцию format_date(year, month, day), которая возвращает строку формата \"YYYY-MM-DD\"."
   ]
  },
  {
   "cell_type": "code",
   "execution_count": 21,
   "id": "b81ce2c5-4179-492e-a6e0-37ba6c7823d3",
   "metadata": {},
   "outputs": [
    {
     "name": "stdout",
     "output_type": "stream",
     "text": [
      "2000-01-01\n"
     ]
    }
   ],
   "source": [
    "def format_date_ternar(year, month, day):\n",
    "  month = '0' + str(month) if len(str(month)) < 2 else str(month)\n",
    "  day = '0' + str(day) if len(str(day)) < 2 else str(day)\n",
    "  return(f'{year}-{month}-{day}')\n",
    "\n",
    "format_date(2000,1,1)"
   ]
  },
  {
   "cell_type": "markdown",
   "id": "b115e13d-883c-4161-8c00-24556ec40cce",
   "metadata": {},
   "source": [
    "## 24. Напишите функцию greet, которая выводит приветствие с именем, используя значение по умолчанию. (По умолчанию \"Гость\")"
   ]
  },
  {
   "cell_type": "code",
   "execution_count": 22,
   "id": "3a7ff6bc-97cd-48bd-90ae-d4eecd73e5a6",
   "metadata": {},
   "outputs": [
    {
     "name": "stdout",
     "output_type": "stream",
     "text": [
      "Привет, Гость!\n"
     ]
    }
   ],
   "source": [
    "def greet(a = 'Гость'):\n",
    "  print(f'Привет, {a}!')\n",
    "\n",
    "greet()"
   ]
  },
  {
   "cell_type": "markdown",
   "id": "927f9172-5068-4756-a415-71a69d44e240",
   "metadata": {},
   "source": [
    "## 25. Напишите функцию calculate_discount(price, discount=0), которая рассчитывает цену со скидкой."
   ]
  },
  {
   "cell_type": "code",
   "execution_count": 23,
   "id": "97fc56de-2e0c-42b9-b4d4-361f514cd797",
   "metadata": {},
   "outputs": [
    {
     "name": "stdout",
     "output_type": "stream",
     "text": [
      "36.0\n"
     ]
    }
   ],
   "source": [
    "def calculate_discount(price, discount=0):\n",
    "  print(price - price*discount/100)\n",
    "\n",
    "calculate_discount(40, 10)"
   ]
  },
  {
   "cell_type": "markdown",
   "id": "46146c00-6958-4af7-aaef-ae32a8125396",
   "metadata": {},
   "source": [
    "## 26. Создайте функцию с использованием *args, которая принимает произвольное количество слов и возвращает строку, состоящую из этих слов."
   ]
  },
  {
   "cell_type": "code",
   "execution_count": 24,
   "id": "cd38afca-50b1-40f1-8b18-9961f6a2c67a",
   "metadata": {},
   "outputs": [
    {
     "data": {
      "text/plain": [
       "'be be be'"
      ]
     },
     "execution_count": 24,
     "metadata": {},
     "output_type": "execute_result"
    }
   ],
   "source": [
    "def to_stroke(*args):\n",
    "  stroke = ''\n",
    "  for i in args:\n",
    "    stroke += i + ' '\n",
    "  return stroke.strip()\n",
    "\n",
    "to_stroke('be', 'be', 'be')"
   ]
  },
  {
   "cell_type": "markdown",
   "id": "19fd2975-f777-4f27-b4c2-e2d4f307fc32",
   "metadata": {},
   "source": [
    "## 27. Напишите функцию с использованием *kwargs, которая принимает произвольное количество именованных параметров и выводит их на экран."
   ]
  },
  {
   "cell_type": "code",
   "execution_count": 25,
   "id": "888ce450-4fb2-42fe-88a7-7ad3de5ae431",
   "metadata": {},
   "outputs": [
    {
     "name": "stdout",
     "output_type": "stream",
     "text": [
      "{'a': 4, 'b': 5}\n"
     ]
    }
   ],
   "source": [
    "def kwarki(**kwargs):\n",
    "  print(kwargs)\n",
    "kwarki(a=4, b=5)"
   ]
  },
  {
   "cell_type": "markdown",
   "id": "2ddbd6f9-4e37-4799-a5b5-bf6b256888a2",
   "metadata": {},
   "source": [
    "## 28. Создайте список из 10 случайных целых чисел. Используйте функцию filter и lambda, чтобы получить новый список, содержащий только четные числа."
   ]
  },
  {
   "cell_type": "code",
   "execution_count": 26,
   "id": "261ec8b4-fb0e-4f34-9004-acee1cb0259a",
   "metadata": {},
   "outputs": [
    {
     "name": "stdout",
     "output_type": "stream",
     "text": [
      "[12, 44, 34, 14, 28]\n",
      "[12, 44, 34, 14, 28]\n"
     ]
    }
   ],
   "source": [
    "import random\n",
    "hryandom = []\n",
    "for i in range(10):\n",
    "  hryandom.append(random.randint(1, 50))\n",
    "hryum_new = list(filter(lambda x: x%2 == 0, hryandom))\n",
    "hryum_newnew = [x for x in hryandom if x%2 == 0] # как вариант через list comprehension\n",
    "print(hryum_new)\n",
    "print(hryum_newnew)"
   ]
  },
  {
   "cell_type": "markdown",
   "id": "ba60a2ff-d627-4113-9476-51fb55baa7f0",
   "metadata": {},
   "source": [
    "## 29. Создайте список строк. Используя filter и lambda, получите новый список, содержащий только те строки, длина которых больше 3 символов."
   ]
  },
  {
   "cell_type": "code",
   "execution_count": 27,
   "id": "38e3f41c-96a7-48e4-9c5e-9161247229bb",
   "metadata": {},
   "outputs": [
    {
     "name": "stdout",
     "output_type": "stream",
     "text": [
      "['bams', 'boms', 'bums', 'bugi-vugi']\n"
     ]
    }
   ],
   "source": [
    "string = ['bam', 'bams', 'bom', 'boms', 'bum', 'bums', 'bugi-vugi']\n",
    "string_3 = list(filter(lambda x:len(x) > 3, string))\n",
    "print(string_3)"
   ]
  },
  {
   "cell_type": "markdown",
   "id": "dd0991a4-e10d-4bc6-b21e-ba0b62f411e8",
   "metadata": {},
   "source": [
    "## 30. Создайте список словарей с информацией о людях (имя и возраст). Используя filter и lambda, получите новый список только тех людей, чей возраст больше 18 лет."
   ]
  },
  {
   "cell_type": "code",
   "execution_count": 28,
   "id": "7781298c-9a27-4074-88fb-8c6bc670b695",
   "metadata": {},
   "outputs": [
    {
     "name": "stdout",
     "output_type": "stream",
     "text": [
      "[('pedro', 25), ('yoda', 900), ('mickey', 100), ('bender', 30)]\n",
      "[{'pedro': 25}, {'yoda': 900}, {'mickey': 100}, {'bender': 30}]\n"
     ]
    }
   ],
   "source": [
    "my_dict = {'pedro' : 25, 'jofri' : 18, 'yoda' : 900, 'mickey' : 100, 'bender' : 30, 'maggi' : 2}\n",
    "name_18 = list(filter(lambda x: x[1] > 18, my_dict.items()))\n",
    "\n",
    "name_18_listdict = []\n",
    "for item in name_18: \n",
    "    name_18_listdict.append({item[0]: item[1]})\n",
    "\n",
    "print(name_18)\n",
    "print(name_18_listdict)"
   ]
  },
  {
   "cell_type": "markdown",
   "id": "f2d779af-fe88-4844-b220-10b5213d8e70",
   "metadata": {},
   "source": [
    "## 31. Создайте список квадратов чисел от 1 до 10 с помощью генератора списков"
   ]
  },
  {
   "cell_type": "code",
   "execution_count": 29,
   "id": "90d44aa4-9a11-48ce-a031-31020a75c359",
   "metadata": {},
   "outputs": [
    {
     "name": "stdout",
     "output_type": "stream",
     "text": [
      "[1, 4, 9, 16, 25, 36, 49, 64, 81]\n"
     ]
    }
   ],
   "source": [
    "wow = list(range(1,10))\n",
    "wow_square = [x**2 for x in wow]\n",
    "print(wow_square)"
   ]
  },
  {
   "cell_type": "markdown",
   "id": "2c196447-5144-4766-889b-aca5422b9f12",
   "metadata": {},
   "source": [
    "## 32. Создайте список строк и используйте списковое включение, чтобы получить новый список, содержащий длины этих строк."
   ]
  },
  {
   "cell_type": "code",
   "execution_count": 30,
   "id": "f2673d05-1e91-4bba-86bf-330f657851ad",
   "metadata": {},
   "outputs": [
    {
     "name": "stdout",
     "output_type": "stream",
     "text": [
      "[3, 4, 3, 4, 3, 4, 9]\n"
     ]
    }
   ],
   "source": [
    "string = ['bam', 'bams', 'bom', 'boms', 'bum', 'bums', 'bugi-vugi']\n",
    "string_len = [len(x) for x in string]\n",
    "print(string_len)"
   ]
  },
  {
   "cell_type": "markdown",
   "id": "61d82eef-3a01-4683-b70c-4e2f64ca054c",
   "metadata": {},
   "source": [
    "## 33. Создайте список целых чисел. Используя генератор списков, создайте новый список, где каждое число заменено на сумму его цифр"
   ]
  },
  {
   "cell_type": "code",
   "execution_count": 31,
   "id": "24eedf2d-0d8f-4503-9f96-a0cd789f9d40",
   "metadata": {},
   "outputs": [
    {
     "name": "stdout",
     "output_type": "stream",
     "text": [
      "[100, 72, 132, 57, 211, 454, 443, 352, 338, 250]\n",
      "[1, 9, 6, 12, 4, 13, 11, 10, 14, 7]\n"
     ]
    }
   ],
   "source": [
    "import random\n",
    "burbon = []\n",
    "for i in range(10):\n",
    "  burbon.append(random.randint(50, 500))\n",
    "    \n",
    "radadendron = [sum(int(x) for x in str(y)) for y in burbon]\n",
    "\n",
    "print(burbon)\n",
    "print(radadendron)"
   ]
  },
  {
   "cell_type": "markdown",
   "id": "b3a0be53-745a-4dcc-9c17-b8d03aa162b7",
   "metadata": {},
   "source": [
    "## 34. Импортировать файл из директории"
   ]
  },
  {
   "cell_type": "code",
   "execution_count": 32,
   "id": "928bde85-bf73-494d-82ee-8cdeb796a087",
   "metadata": {},
   "outputs": [
    {
     "name": "stdout",
     "output_type": "stream",
     "text": [
      "hello\n"
     ]
    }
   ],
   "source": [
    "import sys\n",
    "sys.path.append(r'C:\\Users\\Sviridov\\Desktop\\Тестовые\\Pet')\n",
    "\n",
    "from my_file import my_first_module\n",
    "my_first_module()"
   ]
  },
  {
   "cell_type": "markdown",
   "id": "3d9b7e87-a911-40b7-84a3-38a11ba5daa5",
   "metadata": {},
   "source": [
    "## 35. Создайте класс Person, который имеет атрибуты name и age. Реализуйте метод greet(), который выводит приветствие с именем человека."
   ]
  },
  {
   "cell_type": "code",
   "execution_count": 33,
   "id": "161ae030-83c3-40e5-a3d8-d582f595d317",
   "metadata": {},
   "outputs": [
    {
     "name": "stdout",
     "output_type": "stream",
     "text": [
      "Hello, Donald!\n"
     ]
    }
   ],
   "source": [
    "class Person:\n",
    "  def __init__(self, name, age):\n",
    "    self.name = name\n",
    "    self.age = age\n",
    "\n",
    "  def greet(self):\n",
    "    print(f'Hello, {self.name}!')\n",
    "\n",
    "Donald = Person(name='Donald', age = '79')\n",
    "Donald.greet()"
   ]
  },
  {
   "cell_type": "markdown",
   "id": "1b25267f-7b7f-4eb6-b354-8e8eacad5263",
   "metadata": {},
   "source": [
    "## 36. Создайте класс Car, с атрибутами make, model, year. Добавьте метод display_info(), который выводит информацию о машине."
   ]
  },
  {
   "cell_type": "code",
   "execution_count": 34,
   "id": "628a501f-a034-4f5d-85e2-426de181defa",
   "metadata": {},
   "outputs": [
    {
     "name": "stdout",
     "output_type": "stream",
     "text": [
      "japan toyota 2000\n"
     ]
    }
   ],
   "source": [
    "class Car:\n",
    "  def __init__(self, make, model, year):\n",
    "    self.make = make\n",
    "    self.model = model\n",
    "    self.year = year\n",
    "\n",
    "  def display_info(self):\n",
    "    print(self.make, self.model, self.year)\n",
    "\n",
    "Caldina = Car(make = 'japan', model = 'toyota', year = 2000)\n",
    "Caldina.display_info()"
   ]
  },
  {
   "cell_type": "markdown",
   "id": "0b523aaa-d692-4165-83c9-a1d8261f3f15",
   "metadata": {},
   "source": [
    "## 37. Создайте базовый класс Animal, который имеет атрибуты name и метод make_sound(). Создайте подклассы:\n",
    "**Dog, переопределяющий метод, чтобы он выводил \"Woof!\"**\\\n",
    "**Cat, переопределяющий метод, чтобы он выводил \"Meow!\"**"
   ]
  },
  {
   "cell_type": "code",
   "execution_count": 35,
   "id": "bc95e6aa-3a4b-4f5b-abb9-5d03e4784724",
   "metadata": {},
   "outputs": [
    {
     "name": "stdout",
     "output_type": "stream",
     "text": [
      "Woof!\n",
      "Meow!\n"
     ]
    }
   ],
   "source": [
    "class Animal:\n",
    "  def __init__(self, name):\n",
    "    self.name = name\n",
    "\n",
    "  def make_sound(self):\n",
    "    pass\n",
    "\n",
    "class Dog(Animal):\n",
    "  def __init__(self, name):\n",
    "    super().__init__(name)\n",
    "\n",
    "  def make_sound(self):\n",
    "    super().make_sound()\n",
    "    print(\"Woof!\")\n",
    "\n",
    "class Cat(Animal):\n",
    "  def __init__(self, name):\n",
    "    super().__init__(name)\n",
    "\n",
    "  def make_sound(self):\n",
    "    super().make_sound()\n",
    "    print(\"Meow!\")\n",
    "\n",
    "Linda = Dog(name = 'linda')\n",
    "Mars = Cat(name = 'mars')\n",
    "Linda.make_sound()\n",
    "Mars.make_sound()"
   ]
  },
  {
   "cell_type": "markdown",
   "id": "37da81f7-4393-4b07-8c8b-4d53b3819b82",
   "metadata": {},
   "source": [
    "## 38. Создайте класс Bank, который управляет счетами клиентов. Требования:\n",
    "\n",
    "**Есть класс Account, с атрибутами: номер счета (account_number), имя владельца (owner), баланс (balance)**\\\n",
    "**Метод deposit(amount) — пополнение счета.**\\\n",
    "**Метод withdraw(amount) — снятие средств, с проверкой на достаточность баланса.**\\\n",
    "**В классе Bank храните список всех счетов.**\\\n",
    "**Реализуйте метод add_account(account).**\\\n",
    "**Реализуйте метод get_total_balance(), возвращающий сумму всех счетов банка.**"
   ]
  },
  {
   "cell_type": "code",
   "execution_count": 36,
   "id": "740c33be-8621-4309-a761-450c2630472d",
   "metadata": {},
   "outputs": [
    {
     "name": "stdout",
     "output_type": "stream",
     "text": [
      "10000\n"
     ]
    }
   ],
   "source": [
    "class Bank:\n",
    "  accounts = []\n",
    "  def __init__(self):\n",
    "    self.accounts = []\n",
    "    \n",
    "  def add_account(self, account):\n",
    "    self.accounts.append(account)\n",
    "    \n",
    "  def get_total_balance(self):\n",
    "    total = 0\n",
    "    for x in self.accounts:\n",
    "      total += x.balance\n",
    "    print(total)\n",
    "\n",
    "class Account:\n",
    "  def __init__(self, account_number, owner, balance):\n",
    "    self.account_number = account_number\n",
    "    self.owner = owner\n",
    "    self.balance = balance\n",
    "\n",
    "  def deposit(self, amount):\n",
    "    self.balance += amount\n",
    "\n",
    "  def withdraw(self, amount):\n",
    "    self.balance -= amount\n",
    "    print(f'Your balance: {self.balance}')\n",
    "\n",
    "bank_27 = Bank()\n",
    "kurt01 = Account(account_number = '01', owner = 'kobain', balance = 5000)\n",
    "jimi02 = Account(account_number = '02', owner = 'hendrix', balance = 3000)\n",
    "jim03 = Account(account_number = '03', owner = 'morison', balance = 2000)\n",
    "bank_27.add_account(kurt01)\n",
    "bank_27.add_account(jimi02)\n",
    "bank_27.add_account(jim03)\n",
    "\n",
    "bank_27.get_total_balance()"
   ]
  }
 ],
 "metadata": {
  "kernelspec": {
   "display_name": "Python 3 (ipykernel)",
   "language": "python",
   "name": "python3"
  },
  "language_info": {
   "codemirror_mode": {
    "name": "ipython",
    "version": 3
   },
   "file_extension": ".py",
   "mimetype": "text/x-python",
   "name": "python",
   "nbconvert_exporter": "python",
   "pygments_lexer": "ipython3",
   "version": "3.9.21"
  }
 },
 "nbformat": 4,
 "nbformat_minor": 5
}
