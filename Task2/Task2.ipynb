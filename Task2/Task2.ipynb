{
 "cells": [
  {
   "cell_type": "markdown",
   "id": "b4db673b-98f6-4412-8a63-0294af5f2372",
   "metadata": {},
   "source": [
    "Представим, что у нас список мест которые нужно посетить.\n",
    "\n",
    "Выглядит это так:\n",
    "\n",
    "[ ['USA', 'BRA'], ['JPN', 'PHL'], ['BRA', 'UAE'], ['UAE', 'JPN'] ]\n",
    "\n",
    "Т.е. стартуем из USA, прибываем в BRA:\n",
    "\n",
    "['USA', 'BRA']\n",
    "\n",
    "Далее стартуем из BRA и добираемся до UAE:\n",
    "\n",
    "['BRA', 'UAE']\n",
    "\n",
    "И т.д.\n",
    "\n",
    "Нужно составить финальный маршрут в виде:\n",
    "\n",
    "route = ['USA', 'BRA', 'UAE', 'JPN', 'PHL']\n",
    "\n",
    "Примеры для тестов:\n",
    "\n",
    "Input:\n",
    "\n",
    "[ ['two', 'three'], ['one', 'two'] ]\n",
    "\n",
    "Output:\n",
    "\n",
    "['one', 'two', 'three']\n",
    "\n",
    "Input:\n",
    "\n",
    "[ ['1', '2'] ]"
   ]
  },
  {
   "cell_type": "code",
   "execution_count": 5,
   "id": "aca367fd-aca3-4b88-98b8-dc0e93a7d392",
   "metadata": {},
   "outputs": [
    {
     "name": "stdout",
     "output_type": "stream",
     "text": [
      "['USA', 'BRA', 'JPN', 'PHL', 'BRA', 'UAE', 'UAE', 'JPN']\n",
      "USA\n",
      "BRA\n",
      "['USA', 'BRA', 'UAE', 'JPN', 'PHL']\n"
     ]
    }
   ],
   "source": [
    "g = [ ['USA', 'BRA'], ['JPN', 'PHL'], ['BRA', 'UAE'], ['UAE', 'JPN'] ]\n",
    "all = []\n",
    "for trip in g:\n",
    "    for country in trip:\n",
    "        all.append(country)\n",
    "\n",
    "first = []\n",
    "second = []\n",
    "for trip in g:\n",
    "  if all.count(trip[0]) == 1:\n",
    "    first = trip[0]\n",
    "    second = trip[1]\n",
    "\n",
    "route = [first, second]\n",
    "while len(route) < len(g)+1:\n",
    "  for trip in g:\n",
    "    if trip[0] == route[-1]:\n",
    "        route.append(trip[1])\n",
    "\n",
    "\n",
    "print(all)\n",
    "print(first)\n",
    "print(second)\n",
    "print(route)"
   ]
  },
  {
   "cell_type": "code",
   "execution_count": null,
   "id": "7a2ca4b8-7fe6-46ca-b5ee-545dfb97a1d3",
   "metadata": {},
   "outputs": [],
   "source": []
  }
 ],
 "metadata": {
  "kernelspec": {
   "display_name": "Python [conda env:practicum]",
   "language": "python",
   "name": "conda-env-practicum-py"
  },
  "language_info": {
   "codemirror_mode": {
    "name": "ipython",
    "version": 3
   },
   "file_extension": ".py",
   "mimetype": "text/x-python",
   "name": "python",
   "nbconvert_exporter": "python",
   "pygments_lexer": "ipython3",
   "version": "3.9.21"
  }
 },
 "nbformat": 4,
 "nbformat_minor": 5
}
