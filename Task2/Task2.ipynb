{
 "cells": [
  {
   "cell_type": "markdown",
   "id": "da8c3814-76db-4086-9ca3-98f3ede2dd4a",
   "metadata": {},
   "source": [
    "# Условие"
   ]
  },
  {
   "cell_type": "markdown",
   "id": "b4db673b-98f6-4412-8a63-0294af5f2372",
   "metadata": {},
   "source": [
    "Представим, что у нас список мест которые нужно посетить. Выглядит это так:\n",
    "\n",
    "[ ['USA', 'BRA'], ['JPN', 'PHL'], ['BRA', 'UAE'], ['UAE', 'JPN'] ]\n",
    "\n",
    "Т.е. стартуем из USA, прибываем в BRA:\n",
    "\n",
    "['USA', 'BRA']\n",
    "\n",
    "Далее стартуем из BRA и добираемся до UAE:\n",
    "\n",
    "['BRA', 'UAE'] И т.д.\n",
    "\n",
    "Нужно составить финальный маршрут в виде:\n",
    "\n",
    "route = ['USA', 'BRA', 'UAE', 'JPN', 'PHL']\n",
    "\n",
    "Примеры для тестов:\n",
    "\n",
    "Input:\n",
    "\n",
    "[ ['two', 'three'], ['one', 'two'] ]\n",
    "\n",
    "Output:\n",
    "\n",
    "['one', 'two', 'three']\n",
    "\n",
    "Input:\n",
    "\n",
    "[ ['1', '2'] ]"
   ]
  },
  {
   "cell_type": "markdown",
   "id": "f8a38a95-4836-4a76-b648-e2e1a23892a7",
   "metadata": {},
   "source": [
    "# Решение"
   ]
  },
  {
   "cell_type": "markdown",
   "id": "105784eb-40a7-4bb2-8b60-0f6df59c7fa0",
   "metadata": {},
   "source": [
    "## Первый вариант"
   ]
  },
  {
   "cell_type": "code",
   "execution_count": 5,
   "id": "aca367fd-aca3-4b88-98b8-dc0e93a7d392",
   "metadata": {},
   "outputs": [
    {
     "name": "stdout",
     "output_type": "stream",
     "text": [
      "['USA', 'BRA', 'JPN', 'PHL', 'BRA', 'UAE', 'UAE', 'JPN']\n",
      "USA\n",
      "BRA\n",
      "['USA', 'BRA', 'UAE', 'JPN', 'PHL']\n"
     ]
    }
   ],
   "source": [
    "g = [ ['USA', 'BRA'], ['JPN', 'PHL'], ['BRA', 'UAE'], ['UAE', 'JPN'] ]\n",
    "all = []\n",
    "for trip in g:\n",
    "    for country in trip:\n",
    "        all.append(country)\n",
    "\n",
    "first = []\n",
    "second = []\n",
    "for trip in g:\n",
    "  if all.count(trip[0]) == 1:\n",
    "    first = trip[0]\n",
    "    second = trip[1]\n",
    "\n",
    "route = [first, second]\n",
    "while len(route) < len(g)+1:\n",
    "  for trip in g:\n",
    "    if trip[0] == route[-1]:\n",
    "        route.append(trip[1])\n",
    "\n",
    "\n",
    "print(all)\n",
    "print(first)\n",
    "print(second)\n",
    "print(route)"
   ]
  },
  {
   "cell_type": "markdown",
   "id": "0e75127b-e9ee-4f4f-9f09-5f06e24430e9",
   "metadata": {},
   "source": [
    "## Второй вариант"
   ]
  },
  {
   "cell_type": "code",
   "execution_count": 1,
   "id": "7a2ca4b8-7fe6-46ca-b5ee-545dfb97a1d3",
   "metadata": {},
   "outputs": [
    {
     "name": "stdout",
     "output_type": "stream",
     "text": [
      "task = [['USA', 'BRA'], ['JPN', 'PHL'], ['BRA', 'UAE'], ['UAE', 'JPN']] \t route = ['USA', 'BRA', 'UAE', 'JPN', 'PHL'] \n",
      "\n",
      "task = [['two', 'three'], ['one', 'two']] \t route = ['one', 'two', 'three'] \n",
      "\n",
      "task = [['1', '2']] \t route = ['1', '2'] \n",
      "\n",
      "пути нет\n"
     ]
    }
   ],
   "source": [
    "g_test = {1: [ ['USA', 'BRA'], ['JPN', 'PHL'], ['BRA', 'UAE'], ['UAE', 'JPN'] ],\n",
    "          2: [ ['two', 'three'], ['one', 'two'] ],\n",
    "          3: [ ['1', '2'] ],\n",
    "          4: [[]]\n",
    "          }\n",
    "\n",
    "for value in g_test.values():\n",
    "    if not value[0]:\n",
    "        print('пути нет')\n",
    "        break\n",
    "\n",
    "    route_dict = dict(value)\n",
    "\n",
    "    dif = route_dict.keys() - route_dict.values()\n",
    "\n",
    "    start = str(*dif)\n",
    "\n",
    "    route = [start]\n",
    "\n",
    "    while route_dict.get(start) != None:\n",
    "        finish = route_dict[start]\n",
    "        route.append(finish)\n",
    "        start = finish\n",
    "\n",
    "    print(f'task = {value} \\t route = {route} \\n')"
   ]
  }
 ],
 "metadata": {
  "kernelspec": {
   "display_name": "Python 3 (ipykernel)",
   "language": "python",
   "name": "python3"
  },
  "language_info": {
   "codemirror_mode": {
    "name": "ipython",
    "version": 3
   },
   "file_extension": ".py",
   "mimetype": "text/x-python",
   "name": "python",
   "nbconvert_exporter": "python",
   "pygments_lexer": "ipython3",
   "version": "3.9.21"
  }
 },
 "nbformat": 4,
 "nbformat_minor": 5
}
