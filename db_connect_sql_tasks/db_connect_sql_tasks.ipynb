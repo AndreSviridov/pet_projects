{
 "cells": [
  {
   "cell_type": "code",
   "execution_count": 1,
   "id": "d74fdbb8-e9b3-4eab-b293-fd28133508c6",
   "metadata": {},
   "outputs": [
    {
     "name": "stdout",
     "output_type": "stream",
     "text": [
      "Requirement already satisfied: sqlalchemy in c:\\users\\sviridov\\anaconda3\\envs\\practicum\\lib\\site-packages (1.4.15)\n",
      "Requirement already satisfied: greenlet!=0.4.17 in c:\\users\\sviridov\\anaconda3\\envs\\practicum\\lib\\site-packages (from sqlalchemy) (3.1.1)\n"
     ]
    }
   ],
   "source": [
    "!pip install sqlalchemy"
   ]
  },
  {
   "cell_type": "code",
   "execution_count": 2,
   "id": "92f058e7-dde2-4179-b416-777b07fb0f5c",
   "metadata": {},
   "outputs": [],
   "source": [
    "import pandas as pd\n",
    "import sqlalchemy as sa\n",
    "import sys"
   ]
  },
  {
   "cell_type": "markdown",
   "id": "3caf0da1-7668-47e8-8210-c4fdcb83ac07",
   "metadata": {},
   "source": [
    "## Подключение к БД"
   ]
  },
  {
   "cell_type": "code",
   "execution_count": 3,
   "id": "dfb41792-81ef-44bd-b0df-2bfa83547034",
   "metadata": {},
   "outputs": [],
   "source": [
    "sys.path.append(r'C:\\Users\\Sviridov\\Desktop\\Тестовые\\Pet')\n",
    "from task_db import db_config"
   ]
  },
  {
   "cell_type": "code",
   "execution_count": 4,
   "id": "c4c424c7-e4d7-45a2-8120-afd0e6587800",
   "metadata": {},
   "outputs": [],
   "source": [
    "connection_string1 = 'postgresql://{user}:{pwd}@{host}:{port}/sql_class'.format(**db_config)\n",
    "connection_string2 = 'postgresql://{user}:{pwd}@{host}:{port}/exercises'.format(**db_config)\n",
    "\n",
    "engine1 = sa.create_engine(connection_string1, connect_args={'sslmode':'disable'})\n",
    "engine2 = sa.create_engine(connection_string2, connect_args={'sslmode':'disable'})"
   ]
  },
  {
   "cell_type": "code",
   "execution_count": 5,
   "id": "41294047-e526-4fea-8ce5-e1b7fded5957",
   "metadata": {},
   "outputs": [],
   "source": [
    "def get_sql_data(query:str, engine) -> pd.DataFrame:\n",
    "    with engine.connect() as con:\n",
    "        return pd.read_sql(sql=sa.text(query), con = con)"
   ]
  },
  {
   "cell_type": "markdown",
   "id": "89791002-205a-4e05-b1d4-3031a8e57162",
   "metadata": {},
   "source": [
    "## Запросы"
   ]
  },
  {
   "cell_type": "markdown",
   "id": "2c347675-2700-4129-9c53-3b92e26b3ebc",
   "metadata": {},
   "source": [
    "### 1. Вывести всех членов семьи у которых ИМЯ (Не фамилия+имя, а именно ИМЯ) длинее чем 6 символов."
   ]
  },
  {
   "cell_type": "code",
   "execution_count": 6,
   "id": "fb40a878-39d9-47da-a6e4-8a22887f5553",
   "metadata": {},
   "outputs": [],
   "source": [
    "task1 = '''\n",
    "select left(member_name, (position(' ' in member_name) - 1)) as name\n",
    "from \"family\".familymembers\n",
    "where position(' ' in member_name) >= 8\n",
    "'''"
   ]
  },
  {
   "cell_type": "code",
   "execution_count": 7,
   "id": "6fae0172-20aa-4a21-b901-ab275e82ac69",
   "metadata": {},
   "outputs": [
    {
     "data": {
      "text/html": [
       "<div>\n",
       "<style scoped>\n",
       "    .dataframe tbody tr th:only-of-type {\n",
       "        vertical-align: middle;\n",
       "    }\n",
       "\n",
       "    .dataframe tbody tr th {\n",
       "        vertical-align: top;\n",
       "    }\n",
       "\n",
       "    .dataframe thead th {\n",
       "        text-align: right;\n",
       "    }\n",
       "</style>\n",
       "<table border=\"1\" class=\"dataframe\">\n",
       "  <thead>\n",
       "    <tr style=\"text-align: right;\">\n",
       "      <th></th>\n",
       "      <th>name</th>\n",
       "    </tr>\n",
       "  </thead>\n",
       "  <tbody>\n",
       "    <tr>\n",
       "      <th>0</th>\n",
       "      <td>Headley</td>\n",
       "    </tr>\n",
       "    <tr>\n",
       "      <th>1</th>\n",
       "      <td>Wednesday</td>\n",
       "    </tr>\n",
       "    <tr>\n",
       "      <th>2</th>\n",
       "      <td>Constance</td>\n",
       "    </tr>\n",
       "  </tbody>\n",
       "</table>\n",
       "</div>"
      ],
      "text/plain": [
       "        name\n",
       "0    Headley\n",
       "1  Wednesday\n",
       "2  Constance"
      ]
     },
     "execution_count": 7,
     "metadata": {},
     "output_type": "execute_result"
    }
   ],
   "source": [
    "get_sql_data(task1, engine1).head()"
   ]
  },
  {
   "cell_type": "markdown",
   "id": "dfd681c9-27cc-4f5a-9ac4-dcadda930d90",
   "metadata": {},
   "source": [
    "### 2. Покажите комнаты (таблицы rooms) в которых есть ТВ или есть кухня с интернетом. Результат отсортируйте в порядке убывания цены."
   ]
  },
  {
   "cell_type": "code",
   "execution_count": 8,
   "id": "b39f9091-8f9b-4626-a16c-93bf0124d72d",
   "metadata": {},
   "outputs": [],
   "source": [
    "task2 = '''\n",
    "select * \n",
    "from airbnb.rooms\n",
    "where (home_type = 'Private room' and has_tv = true and has_internet = false and has_kitchen = false) \n",
    "or (home_type = 'Private room' and has_tv = false and has_internet = true and has_kitchen = true)\n",
    "order by price desc\n",
    "'''"
   ]
  },
  {
   "cell_type": "code",
   "execution_count": 9,
   "id": "be8238e7-a16b-49dc-b0e9-0254c76eff8d",
   "metadata": {},
   "outputs": [
    {
     "data": {
      "text/html": [
       "<div>\n",
       "<style scoped>\n",
       "    .dataframe tbody tr th:only-of-type {\n",
       "        vertical-align: middle;\n",
       "    }\n",
       "\n",
       "    .dataframe tbody tr th {\n",
       "        vertical-align: top;\n",
       "    }\n",
       "\n",
       "    .dataframe thead th {\n",
       "        text-align: right;\n",
       "    }\n",
       "</style>\n",
       "<table border=\"1\" class=\"dataframe\">\n",
       "  <thead>\n",
       "    <tr style=\"text-align: right;\">\n",
       "      <th></th>\n",
       "      <th>id</th>\n",
       "      <th>home_type</th>\n",
       "      <th>address</th>\n",
       "      <th>has_tv</th>\n",
       "      <th>has_internet</th>\n",
       "      <th>has_kitchen</th>\n",
       "      <th>has_air_con</th>\n",
       "      <th>price</th>\n",
       "      <th>owner_id</th>\n",
       "      <th>latitude</th>\n",
       "      <th>longitude</th>\n",
       "    </tr>\n",
       "  </thead>\n",
       "  <tbody>\n",
       "    <tr>\n",
       "      <th>0</th>\n",
       "      <td>3</td>\n",
       "      <td>Private room</td>\n",
       "      <td>10027, West 128th Street, New York</td>\n",
       "      <td>True</td>\n",
       "      <td>False</td>\n",
       "      <td>False</td>\n",
       "      <td>True</td>\n",
       "      <td>150</td>\n",
       "      <td>2</td>\n",
       "      <td>40.8090</td>\n",
       "      <td>-73.9419</td>\n",
       "    </tr>\n",
       "    <tr>\n",
       "      <th>1</th>\n",
       "      <td>44</td>\n",
       "      <td>Private room</td>\n",
       "      <td>10024, West 87th Street, New York</td>\n",
       "      <td>False</td>\n",
       "      <td>True</td>\n",
       "      <td>True</td>\n",
       "      <td>False</td>\n",
       "      <td>135</td>\n",
       "      <td>21</td>\n",
       "      <td>40.7901</td>\n",
       "      <td>-73.9793</td>\n",
       "    </tr>\n",
       "    <tr>\n",
       "      <th>2</th>\n",
       "      <td>22</td>\n",
       "      <td>Private room</td>\n",
       "      <td>11217, Saint Marks Avenue, New York</td>\n",
       "      <td>True</td>\n",
       "      <td>False</td>\n",
       "      <td>False</td>\n",
       "      <td>True</td>\n",
       "      <td>130</td>\n",
       "      <td>20</td>\n",
       "      <td>40.6807</td>\n",
       "      <td>-73.9771</td>\n",
       "    </tr>\n",
       "    <tr>\n",
       "      <th>3</th>\n",
       "      <td>47</td>\n",
       "      <td>Private room</td>\n",
       "      <td>11101, 21st Street, New York</td>\n",
       "      <td>True</td>\n",
       "      <td>False</td>\n",
       "      <td>False</td>\n",
       "      <td>True</td>\n",
       "      <td>130</td>\n",
       "      <td>26</td>\n",
       "      <td>40.7477</td>\n",
       "      <td>-73.9474</td>\n",
       "    </tr>\n",
       "    <tr>\n",
       "      <th>4</th>\n",
       "      <td>36</td>\n",
       "      <td>Private room</td>\n",
       "      <td>11215, 10th Street, New York</td>\n",
       "      <td>True</td>\n",
       "      <td>False</td>\n",
       "      <td>False</td>\n",
       "      <td>True</td>\n",
       "      <td>89</td>\n",
       "      <td>32</td>\n",
       "      <td>40.6687</td>\n",
       "      <td>-73.9878</td>\n",
       "    </tr>\n",
       "    <tr>\n",
       "      <th>5</th>\n",
       "      <td>35</td>\n",
       "      <td>Private room</td>\n",
       "      <td>11216, Jefferson Avenue, New York</td>\n",
       "      <td>True</td>\n",
       "      <td>False</td>\n",
       "      <td>False</td>\n",
       "      <td>False</td>\n",
       "      <td>70</td>\n",
       "      <td>32</td>\n",
       "      <td>40.6831</td>\n",
       "      <td>-73.9547</td>\n",
       "    </tr>\n",
       "    <tr>\n",
       "      <th>6</th>\n",
       "      <td>29</td>\n",
       "      <td>Private room</td>\n",
       "      <td>10034, Post Avenue, New York</td>\n",
       "      <td>True</td>\n",
       "      <td>False</td>\n",
       "      <td>False</td>\n",
       "      <td>False</td>\n",
       "      <td>44</td>\n",
       "      <td>27</td>\n",
       "      <td>40.8648</td>\n",
       "      <td>-73.9211</td>\n",
       "    </tr>\n",
       "  </tbody>\n",
       "</table>\n",
       "</div>"
      ],
      "text/plain": [
       "   id     home_type                              address  has_tv  \\\n",
       "0   3  Private room   10027, West 128th Street, New York    True   \n",
       "1  44  Private room    10024, West 87th Street, New York   False   \n",
       "2  22  Private room  11217, Saint Marks Avenue, New York    True   \n",
       "3  47  Private room         11101, 21st Street, New York    True   \n",
       "4  36  Private room         11215, 10th Street, New York    True   \n",
       "5  35  Private room    11216, Jefferson Avenue, New York    True   \n",
       "6  29  Private room         10034, Post Avenue, New York    True   \n",
       "\n",
       "   has_internet  has_kitchen  has_air_con  price  owner_id  latitude  \\\n",
       "0         False        False         True    150         2   40.8090   \n",
       "1          True         True        False    135        21   40.7901   \n",
       "2         False        False         True    130        20   40.6807   \n",
       "3         False        False         True    130        26   40.7477   \n",
       "4         False        False         True     89        32   40.6687   \n",
       "5         False        False        False     70        32   40.6831   \n",
       "6         False        False        False     44        27   40.8648   \n",
       "\n",
       "   longitude  \n",
       "0   -73.9419  \n",
       "1   -73.9793  \n",
       "2   -73.9771  \n",
       "3   -73.9474  \n",
       "4   -73.9878  \n",
       "5   -73.9547  \n",
       "6   -73.9211  "
      ]
     },
     "execution_count": 9,
     "metadata": {},
     "output_type": "execute_result"
    }
   ],
   "source": [
    "get_sql_data(task2, engine1).head(10)"
   ]
  },
  {
   "cell_type": "markdown",
   "id": "5293a609-82e9-4b4e-a231-9d25a6d940d4",
   "metadata": {},
   "source": [
    "### 3. Какие комнаты бронировали (reservations) пользователи у которых не верифицирован email?"
   ]
  },
  {
   "cell_type": "code",
   "execution_count": 10,
   "id": "09768d8e-ebc1-4674-b5d9-93ae8db5aac0",
   "metadata": {},
   "outputs": [],
   "source": [
    "task3 = '''\n",
    "select r.room_id \n",
    "from airbnb.reservations r\n",
    "join airbnb.users u on r.user_id = u.id \n",
    "where u.email_verified_at is null\n",
    "'''"
   ]
  },
  {
   "cell_type": "code",
   "execution_count": 11,
   "id": "511abedc-63a1-4bed-9b4b-19d2f24fce74",
   "metadata": {},
   "outputs": [
    {
     "data": {
      "text/html": [
       "<div>\n",
       "<style scoped>\n",
       "    .dataframe tbody tr th:only-of-type {\n",
       "        vertical-align: middle;\n",
       "    }\n",
       "\n",
       "    .dataframe tbody tr th {\n",
       "        vertical-align: top;\n",
       "    }\n",
       "\n",
       "    .dataframe thead th {\n",
       "        text-align: right;\n",
       "    }\n",
       "</style>\n",
       "<table border=\"1\" class=\"dataframe\">\n",
       "  <thead>\n",
       "    <tr style=\"text-align: right;\">\n",
       "      <th></th>\n",
       "      <th>room_id</th>\n",
       "    </tr>\n",
       "  </thead>\n",
       "  <tbody>\n",
       "    <tr>\n",
       "      <th>0</th>\n",
       "      <td>1</td>\n",
       "    </tr>\n",
       "    <tr>\n",
       "      <th>1</th>\n",
       "      <td>8</td>\n",
       "    </tr>\n",
       "    <tr>\n",
       "      <th>2</th>\n",
       "      <td>49</td>\n",
       "    </tr>\n",
       "  </tbody>\n",
       "</table>\n",
       "</div>"
      ],
      "text/plain": [
       "   room_id\n",
       "0        1\n",
       "1        8\n",
       "2       49"
      ]
     },
     "execution_count": 11,
     "metadata": {},
     "output_type": "execute_result"
    }
   ],
   "source": [
    "get_sql_data(task3, engine1).head()"
   ]
  },
  {
   "cell_type": "markdown",
   "id": "65413975-55d1-41df-8e2c-cf679e7d1323",
   "metadata": {},
   "source": [
    "### 4. Выведите id и признак наличия интернета в помещении. Если интернет в сдаваемом жилье присутствует, то выведите «YES», иначе «NO»."
   ]
  },
  {
   "cell_type": "code",
   "execution_count": 12,
   "id": "2c826cb0-7869-4876-807e-6a7d7396af0f",
   "metadata": {},
   "outputs": [],
   "source": [
    "task4 = '''\n",
    "select id,\n",
    "       case\n",
    "       \t   when has_internet = true then 'YES'\n",
    "       \t   else 'NO'\n",
    "       end as internet    \n",
    "from airbnb.rooms\n",
    "'''"
   ]
  },
  {
   "cell_type": "code",
   "execution_count": 13,
   "id": "ad7187e1-d150-4fe4-8814-8f42f50c51d0",
   "metadata": {},
   "outputs": [
    {
     "data": {
      "text/html": [
       "<div>\n",
       "<style scoped>\n",
       "    .dataframe tbody tr th:only-of-type {\n",
       "        vertical-align: middle;\n",
       "    }\n",
       "\n",
       "    .dataframe tbody tr th {\n",
       "        vertical-align: top;\n",
       "    }\n",
       "\n",
       "    .dataframe thead th {\n",
       "        text-align: right;\n",
       "    }\n",
       "</style>\n",
       "<table border=\"1\" class=\"dataframe\">\n",
       "  <thead>\n",
       "    <tr style=\"text-align: right;\">\n",
       "      <th></th>\n",
       "      <th>id</th>\n",
       "      <th>internet</th>\n",
       "    </tr>\n",
       "  </thead>\n",
       "  <tbody>\n",
       "    <tr>\n",
       "      <th>0</th>\n",
       "      <td>1</td>\n",
       "      <td>YES</td>\n",
       "    </tr>\n",
       "    <tr>\n",
       "      <th>1</th>\n",
       "      <td>2</td>\n",
       "      <td>YES</td>\n",
       "    </tr>\n",
       "    <tr>\n",
       "      <th>2</th>\n",
       "      <td>3</td>\n",
       "      <td>NO</td>\n",
       "    </tr>\n",
       "    <tr>\n",
       "      <th>3</th>\n",
       "      <td>5</td>\n",
       "      <td>YES</td>\n",
       "    </tr>\n",
       "    <tr>\n",
       "      <th>4</th>\n",
       "      <td>6</td>\n",
       "      <td>YES</td>\n",
       "    </tr>\n",
       "  </tbody>\n",
       "</table>\n",
       "</div>"
      ],
      "text/plain": [
       "   id internet\n",
       "0   1      YES\n",
       "1   2      YES\n",
       "2   3       NO\n",
       "3   5      YES\n",
       "4   6      YES"
      ]
     },
     "execution_count": 13,
     "metadata": {},
     "output_type": "execute_result"
    }
   ],
   "source": [
    "get_sql_data(task4, engine1).head()"
   ]
  },
  {
   "cell_type": "markdown",
   "id": "303550be-3599-452b-ba5f-f62946bddbcc",
   "metadata": {},
   "source": [
    "### 5. Вывести названия классов, в которых учатся больше 5 мальчиков. (hard)"
   ]
  },
  {
   "cell_type": "code",
   "execution_count": 14,
   "id": "4ff53ae2-6e90-4b3b-82ed-a94fa57c633a",
   "metadata": {},
   "outputs": [],
   "source": [
    "task5 = '''\n",
    "select c.name \n",
    "from schedule.\"class\" c\n",
    "join schedule.student_in_class sc on c.id = sc.class\n",
    "join schedule.student s on sc.student = s.id\n",
    "where s.last_name like '%v'\n",
    "group by c.name \n",
    "having count(s.last_name) > 5\n",
    "'''"
   ]
  },
  {
   "cell_type": "code",
   "execution_count": 15,
   "id": "1c039908-9406-470a-a344-271810da802f",
   "metadata": {},
   "outputs": [
    {
     "data": {
      "text/html": [
       "<div>\n",
       "<style scoped>\n",
       "    .dataframe tbody tr th:only-of-type {\n",
       "        vertical-align: middle;\n",
       "    }\n",
       "\n",
       "    .dataframe tbody tr th {\n",
       "        vertical-align: top;\n",
       "    }\n",
       "\n",
       "    .dataframe thead th {\n",
       "        text-align: right;\n",
       "    }\n",
       "</style>\n",
       "<table border=\"1\" class=\"dataframe\">\n",
       "  <thead>\n",
       "    <tr style=\"text-align: right;\">\n",
       "      <th></th>\n",
       "      <th>name</th>\n",
       "    </tr>\n",
       "  </thead>\n",
       "  <tbody>\n",
       "    <tr>\n",
       "      <th>0</th>\n",
       "      <td>11 A</td>\n",
       "    </tr>\n",
       "    <tr>\n",
       "      <th>1</th>\n",
       "      <td>10 B</td>\n",
       "    </tr>\n",
       "    <tr>\n",
       "      <th>2</th>\n",
       "      <td>10 A</td>\n",
       "    </tr>\n",
       "  </tbody>\n",
       "</table>\n",
       "</div>"
      ],
      "text/plain": [
       "   name\n",
       "0  11 A\n",
       "1  10 B\n",
       "2  10 A"
      ]
     },
     "execution_count": 15,
     "metadata": {},
     "output_type": "execute_result"
    }
   ],
   "source": [
    "get_sql_data(task5, engine1).head()"
   ]
  },
  {
   "cell_type": "markdown",
   "id": "82597873-51ef-4551-8686-7506600d0f66",
   "metadata": {},
   "source": [
    "### 6. Выведите идентификаторы преподавателей, которые хотя бы один раз за всё время преподавали в каждом из одиннадцатых классов.(hard)"
   ]
  },
  {
   "cell_type": "code",
   "execution_count": 16,
   "id": "7cc134d1-48a6-4611-a08c-548dd0d42543",
   "metadata": {},
   "outputs": [],
   "source": [
    "task6 = '''\n",
    "select s.teacher\n",
    "from schedule.schedule s\n",
    "join schedule.\"class\" c on s.class = c.id \n",
    "where c.name = '11 B' or c.name = '11 A'\n",
    "group by s.teacher\n",
    "having count(distinct (c.name)) > 1\n",
    "'''"
   ]
  },
  {
   "cell_type": "code",
   "execution_count": 17,
   "id": "af6b2411-e78f-446c-8806-56b3ebfa672d",
   "metadata": {},
   "outputs": [
    {
     "data": {
      "text/html": [
       "<div>\n",
       "<style scoped>\n",
       "    .dataframe tbody tr th:only-of-type {\n",
       "        vertical-align: middle;\n",
       "    }\n",
       "\n",
       "    .dataframe tbody tr th {\n",
       "        vertical-align: top;\n",
       "    }\n",
       "\n",
       "    .dataframe thead th {\n",
       "        text-align: right;\n",
       "    }\n",
       "</style>\n",
       "<table border=\"1\" class=\"dataframe\">\n",
       "  <thead>\n",
       "    <tr style=\"text-align: right;\">\n",
       "      <th></th>\n",
       "      <th>teacher</th>\n",
       "    </tr>\n",
       "  </thead>\n",
       "  <tbody>\n",
       "    <tr>\n",
       "      <th>0</th>\n",
       "      <td>2</td>\n",
       "    </tr>\n",
       "    <tr>\n",
       "      <th>1</th>\n",
       "      <td>3</td>\n",
       "    </tr>\n",
       "    <tr>\n",
       "      <th>2</th>\n",
       "      <td>6</td>\n",
       "    </tr>\n",
       "    <tr>\n",
       "      <th>3</th>\n",
       "      <td>8</td>\n",
       "    </tr>\n",
       "    <tr>\n",
       "      <th>4</th>\n",
       "      <td>10</td>\n",
       "    </tr>\n",
       "  </tbody>\n",
       "</table>\n",
       "</div>"
      ],
      "text/plain": [
       "   teacher\n",
       "0        2\n",
       "1        3\n",
       "2        6\n",
       "3        8\n",
       "4       10"
      ]
     },
     "execution_count": 17,
     "metadata": {},
     "output_type": "execute_result"
    }
   ],
   "source": [
    "get_sql_data(task6, engine1).head()"
   ]
  },
  {
   "cell_type": "markdown",
   "id": "69c05b49-1df6-497e-b283-c84c40d2e0bd",
   "metadata": {},
   "source": [
    "### 7. Вывести названия классов, в которых учатся больше 5 мальчиков."
   ]
  },
  {
   "cell_type": "code",
   "execution_count": 18,
   "id": "60a80ba2-6624-40e9-9ae1-937e10fd6890",
   "metadata": {},
   "outputs": [],
   "source": [
    "task7 = '''\n",
    "select c.name \n",
    "from schedule.\"class\" c\n",
    "join schedule.student_in_class sc on c.id = sc.class\n",
    "join schedule.student s on sc.student = s.id\n",
    "where s.last_name like '%v'\n",
    "group by c.name \n",
    "having count(s.last_name) > 5\n",
    "'''"
   ]
  },
  {
   "cell_type": "code",
   "execution_count": 19,
   "id": "4602d726-4573-4f8b-99b4-668d8a76681a",
   "metadata": {},
   "outputs": [
    {
     "data": {
      "text/html": [
       "<div>\n",
       "<style scoped>\n",
       "    .dataframe tbody tr th:only-of-type {\n",
       "        vertical-align: middle;\n",
       "    }\n",
       "\n",
       "    .dataframe tbody tr th {\n",
       "        vertical-align: top;\n",
       "    }\n",
       "\n",
       "    .dataframe thead th {\n",
       "        text-align: right;\n",
       "    }\n",
       "</style>\n",
       "<table border=\"1\" class=\"dataframe\">\n",
       "  <thead>\n",
       "    <tr style=\"text-align: right;\">\n",
       "      <th></th>\n",
       "      <th>name</th>\n",
       "    </tr>\n",
       "  </thead>\n",
       "  <tbody>\n",
       "    <tr>\n",
       "      <th>0</th>\n",
       "      <td>11 A</td>\n",
       "    </tr>\n",
       "    <tr>\n",
       "      <th>1</th>\n",
       "      <td>10 B</td>\n",
       "    </tr>\n",
       "    <tr>\n",
       "      <th>2</th>\n",
       "      <td>10 A</td>\n",
       "    </tr>\n",
       "  </tbody>\n",
       "</table>\n",
       "</div>"
      ],
      "text/plain": [
       "   name\n",
       "0  11 A\n",
       "1  10 B\n",
       "2  10 A"
      ]
     },
     "execution_count": 19,
     "metadata": {},
     "output_type": "execute_result"
    }
   ],
   "source": [
    "get_sql_data(task7, engine1).head()"
   ]
  },
  {
   "cell_type": "markdown",
   "id": "27863829-6468-4d71-97d6-5427032b08be",
   "metadata": {},
   "source": [
    "### 8. Выведите идентификаторы преподавателей, которые хотя бы один раз за всё время преподавали в каждом из одиннадцатых классов."
   ]
  },
  {
   "cell_type": "code",
   "execution_count": 20,
   "id": "01ff1e74-7d75-4531-a76d-a993f7001ead",
   "metadata": {},
   "outputs": [],
   "source": [
    "task8 = '''\n",
    "select s.teacher\n",
    "from schedule.schedule s\n",
    "join schedule.\"class\" c on s.class = c.id \n",
    "where c.name = '11 B' or c.name = '11 A'\n",
    "group by s.teacher\n",
    "having count(distinct (c.name)) > 1\n",
    "'''"
   ]
  },
  {
   "cell_type": "code",
   "execution_count": 21,
   "id": "5f447eef-5c7a-43d2-a08c-081ce979a512",
   "metadata": {},
   "outputs": [
    {
     "data": {
      "text/html": [
       "<div>\n",
       "<style scoped>\n",
       "    .dataframe tbody tr th:only-of-type {\n",
       "        vertical-align: middle;\n",
       "    }\n",
       "\n",
       "    .dataframe tbody tr th {\n",
       "        vertical-align: top;\n",
       "    }\n",
       "\n",
       "    .dataframe thead th {\n",
       "        text-align: right;\n",
       "    }\n",
       "</style>\n",
       "<table border=\"1\" class=\"dataframe\">\n",
       "  <thead>\n",
       "    <tr style=\"text-align: right;\">\n",
       "      <th></th>\n",
       "      <th>teacher</th>\n",
       "    </tr>\n",
       "  </thead>\n",
       "  <tbody>\n",
       "    <tr>\n",
       "      <th>0</th>\n",
       "      <td>2</td>\n",
       "    </tr>\n",
       "    <tr>\n",
       "      <th>1</th>\n",
       "      <td>3</td>\n",
       "    </tr>\n",
       "    <tr>\n",
       "      <th>2</th>\n",
       "      <td>6</td>\n",
       "    </tr>\n",
       "    <tr>\n",
       "      <th>3</th>\n",
       "      <td>8</td>\n",
       "    </tr>\n",
       "    <tr>\n",
       "      <th>4</th>\n",
       "      <td>10</td>\n",
       "    </tr>\n",
       "  </tbody>\n",
       "</table>\n",
       "</div>"
      ],
      "text/plain": [
       "   teacher\n",
       "0        2\n",
       "1        3\n",
       "2        6\n",
       "3        8\n",
       "4       10"
      ]
     },
     "execution_count": 21,
     "metadata": {},
     "output_type": "execute_result"
    }
   ],
   "source": [
    "get_sql_data(task8, engine1).head()"
   ]
  },
  {
   "cell_type": "markdown",
   "id": "1968a69a-4d9d-4fdf-8904-97d34135db7b",
   "metadata": {},
   "source": [
    "### 9. Выведите имя самого старшего человека. Если таких несколько, то выведите их всех."
   ]
  },
  {
   "cell_type": "code",
   "execution_count": 22,
   "id": "90b0a41c-106e-4e14-b80c-ba3b2dd61ca3",
   "metadata": {},
   "outputs": [],
   "source": [
    "task9_1 = '''\n",
    "select member_name, \n",
    "       birthday,  \n",
    "       AGE(birthday)\n",
    "from \"family\".familymembers \n",
    "where AGE(birthday) in (\n",
    "                        select MAX(AGE(birthday))\n",
    "                        from \"family\".familymembers\n",
    "                        )\n",
    "                        '''"
   ]
  },
  {
   "cell_type": "code",
   "execution_count": 23,
   "id": "c71ff176-aaa6-41bc-b47a-56e04d513b7e",
   "metadata": {},
   "outputs": [
    {
     "data": {
      "text/html": [
       "<div>\n",
       "<style scoped>\n",
       "    .dataframe tbody tr th:only-of-type {\n",
       "        vertical-align: middle;\n",
       "    }\n",
       "\n",
       "    .dataframe tbody tr th {\n",
       "        vertical-align: top;\n",
       "    }\n",
       "\n",
       "    .dataframe thead th {\n",
       "        text-align: right;\n",
       "    }\n",
       "</style>\n",
       "<table border=\"1\" class=\"dataframe\">\n",
       "  <thead>\n",
       "    <tr style=\"text-align: right;\">\n",
       "      <th></th>\n",
       "      <th>member_name</th>\n",
       "      <th>birthday</th>\n",
       "      <th>age</th>\n",
       "    </tr>\n",
       "  </thead>\n",
       "  <tbody>\n",
       "    <tr>\n",
       "      <th>0</th>\n",
       "      <td>Headley Quincey</td>\n",
       "      <td>1960-05-13</td>\n",
       "      <td>23886 days</td>\n",
       "    </tr>\n",
       "  </tbody>\n",
       "</table>\n",
       "</div>"
      ],
      "text/plain": [
       "       member_name    birthday        age\n",
       "0  Headley Quincey  1960-05-13 23886 days"
      ]
     },
     "execution_count": 23,
     "metadata": {},
     "output_type": "execute_result"
    }
   ],
   "source": [
    "get_sql_data(task9_1, engine1).head()"
   ]
  },
  {
   "cell_type": "code",
   "execution_count": 24,
   "id": "2935bc72-7779-4325-b676-0dd02924a293",
   "metadata": {},
   "outputs": [],
   "source": [
    "task9_2 = '''\n",
    "select member_name, \n",
    "       birthday,\n",
    "       extract(year from current_date) - extract(year from birthday) as age\n",
    "from \"family\".familymembers \n",
    "where extract(year from current_date) - extract(year from birthday) in (\n",
    "                                                                        select MAX(extract(year from current_date) - extract(year from birthday))\n",
    "                                                                        from \"family\".familymembers\n",
    "                                                                        )\n",
    "                                                                        '''"
   ]
  },
  {
   "cell_type": "code",
   "execution_count": 25,
   "id": "be4b4522-bebd-4492-94da-015a4a0c3ac1",
   "metadata": {},
   "outputs": [
    {
     "data": {
      "text/html": [
       "<div>\n",
       "<style scoped>\n",
       "    .dataframe tbody tr th:only-of-type {\n",
       "        vertical-align: middle;\n",
       "    }\n",
       "\n",
       "    .dataframe tbody tr th {\n",
       "        vertical-align: top;\n",
       "    }\n",
       "\n",
       "    .dataframe thead th {\n",
       "        text-align: right;\n",
       "    }\n",
       "</style>\n",
       "<table border=\"1\" class=\"dataframe\">\n",
       "  <thead>\n",
       "    <tr style=\"text-align: right;\">\n",
       "      <th></th>\n",
       "      <th>member_name</th>\n",
       "      <th>birthday</th>\n",
       "      <th>age</th>\n",
       "    </tr>\n",
       "  </thead>\n",
       "  <tbody>\n",
       "    <tr>\n",
       "      <th>0</th>\n",
       "      <td>Headley Quincey</td>\n",
       "      <td>1960-05-13</td>\n",
       "      <td>65.0</td>\n",
       "    </tr>\n",
       "  </tbody>\n",
       "</table>\n",
       "</div>"
      ],
      "text/plain": [
       "       member_name    birthday   age\n",
       "0  Headley Quincey  1960-05-13  65.0"
      ]
     },
     "execution_count": 25,
     "metadata": {},
     "output_type": "execute_result"
    }
   ],
   "source": [
    "get_sql_data(task9_2, engine1).head()"
   ]
  },
  {
   "cell_type": "markdown",
   "id": "6bf9c545-3303-408f-9daf-21ddbfba8ca9",
   "metadata": {},
   "source": [
    "### 10. Выведите идентификаторы преподавателей, которые хотя бы один раз за всё время преподавали в каждом из одиннадцатых классов."
   ]
  },
  {
   "cell_type": "code",
   "execution_count": 26,
   "id": "8b5d4741-6870-4e81-85fe-f6464affd668",
   "metadata": {},
   "outputs": [],
   "source": [
    "task10 = '''\n",
    "with A11 as (\n",
    "             select distinct(teacher) as teacher_id\n",
    "             from schedule.schedule s\n",
    "             join schedule.\"class\" c\n",
    "             on s.\"class\" = c.id     \n",
    "             where c.name = '11 A'    \n",
    "            ),\n",
    "     B11 as (\n",
    "             select distinct(teacher) as teacher_id\n",
    "             from schedule.schedule s\n",
    "             join schedule.\"class\" c\n",
    "             on s.\"class\" = c.id     \n",
    "             where c.name = '11 B'    \n",
    "            )\n",
    "select A11.teacher_id\n",
    "from A11 \n",
    "join B11 on A11.teacher_id = B11.teacher_id\n",
    "'''"
   ]
  },
  {
   "cell_type": "code",
   "execution_count": 27,
   "id": "761028fd-09d5-470a-996f-f80f808f0e64",
   "metadata": {},
   "outputs": [
    {
     "data": {
      "text/html": [
       "<div>\n",
       "<style scoped>\n",
       "    .dataframe tbody tr th:only-of-type {\n",
       "        vertical-align: middle;\n",
       "    }\n",
       "\n",
       "    .dataframe tbody tr th {\n",
       "        vertical-align: top;\n",
       "    }\n",
       "\n",
       "    .dataframe thead th {\n",
       "        text-align: right;\n",
       "    }\n",
       "</style>\n",
       "<table border=\"1\" class=\"dataframe\">\n",
       "  <thead>\n",
       "    <tr style=\"text-align: right;\">\n",
       "      <th></th>\n",
       "      <th>teacher_id</th>\n",
       "    </tr>\n",
       "  </thead>\n",
       "  <tbody>\n",
       "    <tr>\n",
       "      <th>0</th>\n",
       "      <td>2</td>\n",
       "    </tr>\n",
       "    <tr>\n",
       "      <th>1</th>\n",
       "      <td>3</td>\n",
       "    </tr>\n",
       "    <tr>\n",
       "      <th>2</th>\n",
       "      <td>6</td>\n",
       "    </tr>\n",
       "    <tr>\n",
       "      <th>3</th>\n",
       "      <td>8</td>\n",
       "    </tr>\n",
       "    <tr>\n",
       "      <th>4</th>\n",
       "      <td>10</td>\n",
       "    </tr>\n",
       "  </tbody>\n",
       "</table>\n",
       "</div>"
      ],
      "text/plain": [
       "   teacher_id\n",
       "0           2\n",
       "1           3\n",
       "2           6\n",
       "3           8\n",
       "4          10"
      ]
     },
     "execution_count": 27,
     "metadata": {},
     "output_type": "execute_result"
    }
   ],
   "source": [
    "get_sql_data(task10, engine1).head()"
   ]
  },
  {
   "cell_type": "markdown",
   "id": "55bf23db-4a2f-4508-a060-fd01b03f904b",
   "metadata": {},
   "source": [
    "### 11. Для каждой комнаты, которую снимали как минимум 1 раз, найдите имя человека, снимавшего ее последний раз, и дату, когда он выехал."
   ]
  },
  {
   "cell_type": "code",
   "execution_count": 28,
   "id": "b7a4307e-4e1b-48fa-8af2-75eacd2eacce",
   "metadata": {},
   "outputs": [],
   "source": [
    "task11 = '''\n",
    "with combo as (\n",
    "               select room_id,\n",
    "                      max(end_date) as last_end_date\n",
    "               from airbnb.reservations\n",
    "               group by room_id\n",
    "               having count(start_date) > 1 \n",
    "              )\n",
    "select r.room_id, \n",
    "       u.\"name\",\n",
    "       r.end_date\n",
    "from airbnb.reservations r\n",
    "join airbnb.users u on r.user_id=u.id\n",
    "join combo on r.room_id = combo.room_id and r.end_date = combo.last_end_date\n",
    "'''"
   ]
  },
  {
   "cell_type": "code",
   "execution_count": 29,
   "id": "6170ba51-8b13-4f64-802c-b8b549e1c223",
   "metadata": {},
   "outputs": [
    {
     "data": {
      "text/html": [
       "<div>\n",
       "<style scoped>\n",
       "    .dataframe tbody tr th:only-of-type {\n",
       "        vertical-align: middle;\n",
       "    }\n",
       "\n",
       "    .dataframe tbody tr th {\n",
       "        vertical-align: top;\n",
       "    }\n",
       "\n",
       "    .dataframe thead th {\n",
       "        text-align: right;\n",
       "    }\n",
       "</style>\n",
       "<table border=\"1\" class=\"dataframe\">\n",
       "  <thead>\n",
       "    <tr style=\"text-align: right;\">\n",
       "      <th></th>\n",
       "      <th>room_id</th>\n",
       "      <th>name</th>\n",
       "      <th>end_date</th>\n",
       "    </tr>\n",
       "  </thead>\n",
       "  <tbody>\n",
       "    <tr>\n",
       "      <th>0</th>\n",
       "      <td>1</td>\n",
       "      <td>Michael Douglas</td>\n",
       "      <td>2019-02-04 12:00:00</td>\n",
       "    </tr>\n",
       "    <tr>\n",
       "      <th>1</th>\n",
       "      <td>21</td>\n",
       "      <td>Alan Rickman</td>\n",
       "      <td>2020-02-29 10:00:00</td>\n",
       "    </tr>\n",
       "    <tr>\n",
       "      <th>2</th>\n",
       "      <td>19</td>\n",
       "      <td>Samuel L. Jackson</td>\n",
       "      <td>2020-05-02 10:00:00</td>\n",
       "    </tr>\n",
       "    <tr>\n",
       "      <th>3</th>\n",
       "      <td>5</td>\n",
       "      <td>Russell Crowe</td>\n",
       "      <td>2020-05-15 10:00:00</td>\n",
       "    </tr>\n",
       "    <tr>\n",
       "      <th>4</th>\n",
       "      <td>49</td>\n",
       "      <td>Bruce Willis</td>\n",
       "      <td>2020-06-11 10:00:00</td>\n",
       "    </tr>\n",
       "  </tbody>\n",
       "</table>\n",
       "</div>"
      ],
      "text/plain": [
       "   room_id               name            end_date\n",
       "0        1    Michael Douglas 2019-02-04 12:00:00\n",
       "1       21       Alan Rickman 2020-02-29 10:00:00\n",
       "2       19  Samuel L. Jackson 2020-05-02 10:00:00\n",
       "3        5      Russell Crowe 2020-05-15 10:00:00\n",
       "4       49       Bruce Willis 2020-06-11 10:00:00"
      ]
     },
     "execution_count": 29,
     "metadata": {},
     "output_type": "execute_result"
    }
   ],
   "source": [
    "get_sql_data(task11, engine1).head()"
   ]
  },
  {
   "cell_type": "markdown",
   "id": "634d868a-dd76-4b2e-beb4-31333ebd3a50",
   "metadata": {},
   "source": [
    "### 12. Определить группы товаров, которые не приобретались в 2005 году"
   ]
  },
  {
   "cell_type": "code",
   "execution_count": 30,
   "id": "c21007d0-8ae2-4c27-9bbe-c04d8c22a64d",
   "metadata": {},
   "outputs": [],
   "source": [
    "task12 = '''\n",
    "select good_type_name\n",
    "from \"family\".goodtypes\n",
    "where good_type_id in(\n",
    "                      select \"type\"\n",
    "                      from \"family\".goods\n",
    "                      where good_id not in(\n",
    "                                           select distinct(good) as good\n",
    "                                           from \"family\".payments\n",
    "                                           where extract(year from date) = 2005\n",
    "                                          ) \n",
    "                     )\n",
    "                     '''"
   ]
  },
  {
   "cell_type": "code",
   "execution_count": 31,
   "id": "e6ec8558-f8db-45aa-83be-fc3754bbfcac",
   "metadata": {},
   "outputs": [
    {
     "data": {
      "text/html": [
       "<div>\n",
       "<style scoped>\n",
       "    .dataframe tbody tr th:only-of-type {\n",
       "        vertical-align: middle;\n",
       "    }\n",
       "\n",
       "    .dataframe tbody tr th {\n",
       "        vertical-align: top;\n",
       "    }\n",
       "\n",
       "    .dataframe thead th {\n",
       "        text-align: right;\n",
       "    }\n",
       "</style>\n",
       "<table border=\"1\" class=\"dataframe\">\n",
       "  <thead>\n",
       "    <tr style=\"text-align: right;\">\n",
       "      <th></th>\n",
       "      <th>good_type_name</th>\n",
       "    </tr>\n",
       "  </thead>\n",
       "  <tbody>\n",
       "    <tr>\n",
       "      <th>0</th>\n",
       "      <td>communal payments</td>\n",
       "    </tr>\n",
       "    <tr>\n",
       "      <th>1</th>\n",
       "      <td>food</td>\n",
       "    </tr>\n",
       "    <tr>\n",
       "      <th>2</th>\n",
       "      <td>delicacies</td>\n",
       "    </tr>\n",
       "    <tr>\n",
       "      <th>3</th>\n",
       "      <td>equipment</td>\n",
       "    </tr>\n",
       "  </tbody>\n",
       "</table>\n",
       "</div>"
      ],
      "text/plain": [
       "      good_type_name\n",
       "0  communal payments\n",
       "1               food\n",
       "2         delicacies\n",
       "3          equipment"
      ]
     },
     "execution_count": 31,
     "metadata": {},
     "output_type": "execute_result"
    }
   ],
   "source": [
    "get_sql_data(task12, engine1).head()"
   ]
  },
  {
   "cell_type": "markdown",
   "id": "fc341fa5-22d7-4d51-bf0e-31ddc4b70802",
   "metadata": {},
   "source": [
    "### 13. Напишите запрос, который вычисляет разницу между зарплатой каждого сотрудника и средней зарплатой в его департаменте."
   ]
  },
  {
   "cell_type": "code",
   "execution_count": 32,
   "id": "3f00b818-e2cf-4007-ac81-d5ea9ee77327",
   "metadata": {},
   "outputs": [],
   "source": [
    "task13 = '''\n",
    "with sal_avgsal as (\n",
    "                    select \"name\",\n",
    "                           salary,\n",
    "                           round(avg(salary) over (partition by department_id), 0) as avg_salary\n",
    "                    from sber.employee\n",
    "                   )\n",
    "select \"name\",\n",
    "       avg_salary - salary as difference\n",
    "from sal_avgsal\n",
    "'''"
   ]
  },
  {
   "cell_type": "code",
   "execution_count": 33,
   "id": "93acff64-b289-4a91-948d-740aa2005251",
   "metadata": {},
   "outputs": [
    {
     "data": {
      "text/html": [
       "<div>\n",
       "<style scoped>\n",
       "    .dataframe tbody tr th:only-of-type {\n",
       "        vertical-align: middle;\n",
       "    }\n",
       "\n",
       "    .dataframe tbody tr th {\n",
       "        vertical-align: top;\n",
       "    }\n",
       "\n",
       "    .dataframe thead th {\n",
       "        text-align: right;\n",
       "    }\n",
       "</style>\n",
       "<table border=\"1\" class=\"dataframe\">\n",
       "  <thead>\n",
       "    <tr style=\"text-align: right;\">\n",
       "      <th></th>\n",
       "      <th>name</th>\n",
       "      <th>difference</th>\n",
       "    </tr>\n",
       "  </thead>\n",
       "  <tbody>\n",
       "    <tr>\n",
       "      <th>0</th>\n",
       "      <td>Crystal Herrera</td>\n",
       "      <td>43118.0</td>\n",
       "    </tr>\n",
       "    <tr>\n",
       "      <th>1</th>\n",
       "      <td>Richard Ward</td>\n",
       "      <td>-32156.0</td>\n",
       "    </tr>\n",
       "    <tr>\n",
       "      <th>2</th>\n",
       "      <td>Christopher Lee</td>\n",
       "      <td>25953.0</td>\n",
       "    </tr>\n",
       "    <tr>\n",
       "      <th>3</th>\n",
       "      <td>Sheila Reese</td>\n",
       "      <td>-67008.0</td>\n",
       "    </tr>\n",
       "    <tr>\n",
       "      <th>4</th>\n",
       "      <td>Gilbert Hardy</td>\n",
       "      <td>42553.0</td>\n",
       "    </tr>\n",
       "  </tbody>\n",
       "</table>\n",
       "</div>"
      ],
      "text/plain": [
       "              name  difference\n",
       "0  Crystal Herrera     43118.0\n",
       "1     Richard Ward    -32156.0\n",
       "2  Christopher Lee     25953.0\n",
       "3     Sheila Reese    -67008.0\n",
       "4    Gilbert Hardy     42553.0"
      ]
     },
     "execution_count": 33,
     "metadata": {},
     "output_type": "execute_result"
    }
   ],
   "source": [
    "get_sql_data(task13, engine2).head()"
   ]
  },
  {
   "cell_type": "markdown",
   "id": "5b4c69a4-7e7e-4866-8346-8b483a7e07b6",
   "metadata": {},
   "source": [
    "### 8. test"
   ]
  },
  {
   "cell_type": "code",
   "execution_count": 34,
   "id": "dc170d5f-2837-4486-9179-0d83cae3080b",
   "metadata": {},
   "outputs": [],
   "source": [
    "task14 = '''select date_trunc('month', date)::date,\n",
    "           count(product_key),\n",
    "           LAG(COUNT(product_key)) OVER (ORDER BY date_trunc('month', date)),\n",
    "           count(product_key) + LAG(COUNT(product_key)) OVER (ORDER BY date_trunc('month', date))\n",
    "           from alphabank.purchase\n",
    "           group by date_trunc('month', date)\n",
    "           order by date_trunc('month', date)'''"
   ]
  },
  {
   "cell_type": "code",
   "execution_count": 35,
   "id": "80a106f1-2958-4be0-8770-5bd9a7b4e153",
   "metadata": {},
   "outputs": [
    {
     "data": {
      "text/html": [
       "<div>\n",
       "<style scoped>\n",
       "    .dataframe tbody tr th:only-of-type {\n",
       "        vertical-align: middle;\n",
       "    }\n",
       "\n",
       "    .dataframe tbody tr th {\n",
       "        vertical-align: top;\n",
       "    }\n",
       "\n",
       "    .dataframe thead th {\n",
       "        text-align: right;\n",
       "    }\n",
       "</style>\n",
       "<table border=\"1\" class=\"dataframe\">\n",
       "  <thead>\n",
       "    <tr style=\"text-align: right;\">\n",
       "      <th></th>\n",
       "      <th>date_trunc</th>\n",
       "      <th>count</th>\n",
       "      <th>lag</th>\n",
       "      <th>?column?</th>\n",
       "    </tr>\n",
       "  </thead>\n",
       "  <tbody>\n",
       "    <tr>\n",
       "      <th>0</th>\n",
       "      <td>2022-06-01</td>\n",
       "      <td>1</td>\n",
       "      <td>NaN</td>\n",
       "      <td>NaN</td>\n",
       "    </tr>\n",
       "    <tr>\n",
       "      <th>1</th>\n",
       "      <td>2022-08-01</td>\n",
       "      <td>1</td>\n",
       "      <td>1.0</td>\n",
       "      <td>2.0</td>\n",
       "    </tr>\n",
       "    <tr>\n",
       "      <th>2</th>\n",
       "      <td>2023-03-01</td>\n",
       "      <td>6</td>\n",
       "      <td>1.0</td>\n",
       "      <td>7.0</td>\n",
       "    </tr>\n",
       "    <tr>\n",
       "      <th>3</th>\n",
       "      <td>2023-04-01</td>\n",
       "      <td>2</td>\n",
       "      <td>6.0</td>\n",
       "      <td>8.0</td>\n",
       "    </tr>\n",
       "    <tr>\n",
       "      <th>4</th>\n",
       "      <td>2023-05-01</td>\n",
       "      <td>2</td>\n",
       "      <td>2.0</td>\n",
       "      <td>4.0</td>\n",
       "    </tr>\n",
       "    <tr>\n",
       "      <th>5</th>\n",
       "      <td>2023-06-01</td>\n",
       "      <td>3</td>\n",
       "      <td>2.0</td>\n",
       "      <td>5.0</td>\n",
       "    </tr>\n",
       "    <tr>\n",
       "      <th>6</th>\n",
       "      <td>2023-10-01</td>\n",
       "      <td>2</td>\n",
       "      <td>3.0</td>\n",
       "      <td>5.0</td>\n",
       "    </tr>\n",
       "    <tr>\n",
       "      <th>7</th>\n",
       "      <td>2023-12-01</td>\n",
       "      <td>1</td>\n",
       "      <td>2.0</td>\n",
       "      <td>3.0</td>\n",
       "    </tr>\n",
       "    <tr>\n",
       "      <th>8</th>\n",
       "      <td>2024-01-01</td>\n",
       "      <td>7</td>\n",
       "      <td>1.0</td>\n",
       "      <td>8.0</td>\n",
       "    </tr>\n",
       "    <tr>\n",
       "      <th>9</th>\n",
       "      <td>2024-02-01</td>\n",
       "      <td>8</td>\n",
       "      <td>7.0</td>\n",
       "      <td>15.0</td>\n",
       "    </tr>\n",
       "  </tbody>\n",
       "</table>\n",
       "</div>"
      ],
      "text/plain": [
       "   date_trunc  count  lag  ?column?\n",
       "0  2022-06-01      1  NaN       NaN\n",
       "1  2022-08-01      1  1.0       2.0\n",
       "2  2023-03-01      6  1.0       7.0\n",
       "3  2023-04-01      2  6.0       8.0\n",
       "4  2023-05-01      2  2.0       4.0\n",
       "5  2023-06-01      3  2.0       5.0\n",
       "6  2023-10-01      2  3.0       5.0\n",
       "7  2023-12-01      1  2.0       3.0\n",
       "8  2024-01-01      7  1.0       8.0\n",
       "9  2024-02-01      8  7.0      15.0"
      ]
     },
     "execution_count": 35,
     "metadata": {},
     "output_type": "execute_result"
    }
   ],
   "source": [
    "get_sql_data(task14, engine2).head(10)"
   ]
  }
 ],
 "metadata": {
  "kernelspec": {
   "display_name": "Python 3 (ipykernel)",
   "language": "python",
   "name": "python3"
  },
  "language_info": {
   "codemirror_mode": {
    "name": "ipython",
    "version": 3
   },
   "file_extension": ".py",
   "mimetype": "text/x-python",
   "name": "python",
   "nbconvert_exporter": "python",
   "pygments_lexer": "ipython3",
   "version": "3.9.21"
  }
 },
 "nbformat": 4,
 "nbformat_minor": 5
}
